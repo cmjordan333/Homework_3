{
 "cells": [
  {
   "cell_type": "code",
   "execution_count": 1,
   "metadata": {},
   "outputs": [],
   "source": [
    "import os\n",
    "import csv"
   ]
  },
  {
   "cell_type": "code",
   "execution_count": 2,
   "metadata": {},
   "outputs": [],
   "source": [
    "date, revenue = ([] for i in range(2))\n",
    "\n",
    "csv_input_path = os.path.join(\"Resources\", \"budget_data.csv\")\n",
    "txt_output_path = os.path.join(\"Resources\", \"budget_data_summary.txt\")"
   ]
  },
  {
   "cell_type": "code",
   "execution_count": 3,
   "metadata": {},
   "outputs": [],
   "source": [
    "with open(csv_input_path, mode='r', newline='') as budget_data:\n",
    "    reader = csv.reader(budget_data, delimiter=',')\n",
    "\n",
    "    next(reader)\n",
    "\n",
    "    row_num = 0\n",
    "    for row in reader:\n",
    "        date.append(row[0])\n",
    "        revenue.append(row[1])\n",
    "        row_num += 1\n",
    "        "
   ]
  },
  {
   "cell_type": "code",
   "execution_count": 4,
   "metadata": {},
   "outputs": [
    {
     "name": "stdout",
     "output_type": "stream",
     "text": [
      "\n",
      "Financial Analysis \n",
      "--------------------------------------------------\n",
      "Total Months: 86\n"
     ]
    }
   ],
   "source": [
    "print(\"\\nFinancial Analysis\", \"\\n\" + \"-\" * 50)\n",
    "\n",
    "print(\"Total Months:\", row_num)"
   ]
  },
  {
   "cell_type": "code",
   "execution_count": 5,
   "metadata": {},
   "outputs": [
    {
     "name": "stdout",
     "output_type": "stream",
     "text": [
      "Total Revenue: $38382578\n"
     ]
    }
   ],
   "source": [
    "revenue_sum = 0\n",
    "for i in revenue:\n",
    "    revenue_sum += int(i)\n",
    "\n",
    "print(\"Total Revenue: $\" + str(revenue_sum))"
   ]
  },
  {
   "cell_type": "code",
   "execution_count": 6,
   "metadata": {},
   "outputs": [
    {
     "name": "stdout",
     "output_type": "stream",
     "text": [
      "Average Revenue Change: $-2288\n"
     ]
    }
   ],
   "source": [
    "total_revenue_change = 0\n",
    "for h in range(row_num):\n",
    "    total_revenue_change += int(revenue[h]) - int(revenue[h - 1])\n",
    "\n",
    "change = (int(revenue[0]) - int(revenue[-1]))\n",
    "total_revenue_change_adj = total_revenue_change - change\n",
    "\n",
    "avg_revenue_change = (total_revenue_change_adj) / row_num\n",
    "print(\"Average Revenue Change: $\" + str(round(avg_revenue_change)))\n"
   ]
  },
  {
   "cell_type": "code",
   "execution_count": 7,
   "metadata": {},
   "outputs": [
    {
     "name": "stdout",
     "output_type": "stream",
     "text": [
      "Greatest Increase in Revenue: Feb-2012 ($1926159)\n"
     ]
    }
   ],
   "source": [
    "high_revenue = 0\n",
    "for j in range(len(revenue)):\n",
    "    if int(revenue[j]) - int(revenue[j - 1]) > high_revenue:\n",
    "        high_revenue = int(revenue[j]) - int(revenue[j - 1])\n",
    "        high_month = date[j]\n",
    "\n",
    "print(\"Greatest Increase in Revenue:\", high_month, \"($\" + str(high_revenue) + \")\")"
   ]
  },
  {
   "cell_type": "code",
   "execution_count": 10,
   "metadata": {},
   "outputs": [
    {
     "name": "stdout",
     "output_type": "stream",
     "text": [
      "Greatest Decrease in Revenue: Sep-2013 ($-2196167)\n",
      "--------------------------------------------------\n",
      "\n"
     ]
    }
   ],
   "source": [
    "low_revenue = 0\n",
    "for k in range(len(revenue)):\n",
    "    if int(revenue[k]) - int(revenue[k - 1]) < low_revenue:\n",
    "        low_revenue = int(revenue[k]) - int(revenue[k - 1])\n",
    "        low_month = date[k]\n",
    "\n",
    "print(\"Greatest Decrease in Revenue:\", low_month, \"($\" + str(low_revenue) + \")\")\n",
    "\n",
    "print(\"-\" * 50 + \"\\n\")\n",
    "\n",
    "with open(txt_output_path, mode='w', newline='') as summary_txt:\n",
    "    writer = csv.writer(summary_txt)\n",
    "\n",
    "    writer.writerows([\n",
    "        [\"Financial Analysis for: \"],\n",
    "        [\"-\" * 50],\n",
    "        [\"Total Months: \" + str(row_num)],\n",
    "        [\"Total Revenue: $\" + str(revenue_sum)],\n",
    "        [\"Average Revenue Change: $\" + str(round(avg_revenue_change))],\n",
    "        [\"Greatest Increase in Revenue: \" + str(high_month) + \" ($\" + str(high_revenue) + \")\"],\n",
    "        [\"Greatest Decrease in Revenue: \" + str(low_month) + \" ($\" + str(low_revenue) + \")\"]\n",
    "    ])"
   ]
  },
  {
   "cell_type": "code",
   "execution_count": null,
   "metadata": {},
   "outputs": [],
   "source": []
  }
 ],
 "metadata": {
  "kernelspec": {
   "display_name": "Python 3",
   "language": "python",
   "name": "python3"
  },
  "language_info": {
   "codemirror_mode": {
    "name": "ipython",
    "version": 3
   },
   "file_extension": ".py",
   "mimetype": "text/x-python",
   "name": "python",
   "nbconvert_exporter": "python",
   "pygments_lexer": "ipython3",
   "version": "3.7.3"
  }
 },
 "nbformat": 4,
 "nbformat_minor": 2
}
