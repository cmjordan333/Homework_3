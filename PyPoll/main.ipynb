{
 "cells": [
  {
   "cell_type": "code",
   "execution_count": 1,
   "metadata": {},
   "outputs": [],
   "source": [
    "import os\n",
    "import csv\n"
   ]
  },
  {
   "cell_type": "code",
   "execution_count": 2,
   "metadata": {},
   "outputs": [],
   "source": [
    "csv_input_path = os.path.join(\"Resources\", \"election_data.csv\")\n",
    "txt_output_path = os.path.join(\"Resources\", \"election_summary.txt\")"
   ]
  },
  {
   "cell_type": "code",
   "execution_count": 3,
   "metadata": {},
   "outputs": [],
   "source": [
    "candidates, total_candidates, candidate_perc, candidate_total, summaries = ([] for i in range(5))\n",
    "\n",
    "with open(csv_input_path, mode='r', newline='') as poll_data:\n",
    "    reader = csv.reader(poll_data, delimiter=',')\n",
    "\n",
    "    next(reader)\n",
    "\n",
    "    num_rows = 0\n",
    "\n",
    "    for row in reader:\n",
    "        total_candidates.append(row[2])\n",
    "        num_rows += 1"
   ]
  },
  {
   "cell_type": "code",
   "execution_count": 4,
   "metadata": {},
   "outputs": [
    {
     "name": "stdout",
     "output_type": "stream",
     "text": [
      "\n",
      "Election Results\n",
      "----------------------------------------\n",
      "Total Votes: 3521001\n",
      "----------------------------------------\n"
     ]
    }
   ],
   "source": [
    "sorted_candidates = sorted(total_candidates)\n",
    "\n",
    "for i in range(num_rows):\n",
    "    if sorted_candidates[i - 1] != sorted_candidates[i]:\n",
    "        candidates.append(sorted_candidates[i])\n",
    "\n",
    "\n",
    "print(\"\\nElection Results\")\n",
    "print(\"-\" * 40)\n",
    "print(\"Total Votes:\", num_rows)\n",
    "print(\"-\" * 40)"
   ]
  },
  {
   "cell_type": "code",
   "execution_count": 5,
   "metadata": {},
   "outputs": [],
   "source": [
    "for j in range(len(candidates)):\n",
    "    candidate_count = 0\n",
    "\n",
    "    for k in range(len(sorted_candidates)):\n",
    "        if candidates[j] == sorted_candidates[k]:\n",
    "            candidate_count += 1\n",
    "\n",
    "    candidate_perc.append(round(candidate_count / num_rows * 100, 1))\n",
    "    candidate_total.append(candidate_count)\n"
   ]
  },
  {
   "cell_type": "code",
   "execution_count": 6,
   "metadata": {},
   "outputs": [
    {
     "name": "stdout",
     "output_type": "stream",
     "text": [
      "Correy: 20.0% (704200)\n",
      "Khan: 63.0% (2218231)\n",
      "Li: 14.0% (492940)\n",
      "O'Tooley: 3.0% (105630)\n"
     ]
    }
   ],
   "source": [
    "zip_candidate = zip(candidates, candidate_perc, candidate_total)\n",
    "\n",
    "for row in zip_candidate:\n",
    "    print(row[0] + \":\", str(row[1]) + \"%\", \"(\" + str(row[2]) + \")\")\n",
    "    summary = (row[0] + \": \", str(row[1]) + \"%\", \" (\" + str(row[2]) + \")\")\n",
    "    summaries.append(summary)"
   ]
  },
  {
   "cell_type": "code",
   "execution_count": 7,
   "metadata": {},
   "outputs": [
    {
     "name": "stdout",
     "output_type": "stream",
     "text": [
      "----------------------------------------\n",
      "Winner: Khan\n",
      "----------------------------------------\n",
      "\n",
      "\n",
      "\n"
     ]
    }
   ],
   "source": [
    "for k in range(len(candidate_perc)):\n",
    "    if candidate_total[k] > candidate_total[k - 1]:\n",
    "        candidate_winner = candidates[k]\n",
    "\n",
    "\n",
    "print(\"-\" * 40)\n",
    "print(\"Winner:\", candidate_winner)\n",
    "print(\"-\" * 40)\n",
    "print(\"\\n\\n\")"
   ]
  },
  {
   "cell_type": "code",
   "execution_count": 8,
   "metadata": {},
   "outputs": [],
   "source": [
    "with open(txt_output_path, mode='w', newline='') as posted_summaries:\n",
    "    writer = csv.writer(posted_summaries)\n",
    "\n",
    "    writer.writerows([\n",
    "        [\"Election Results for: \"],\n",
    "        [\"-\" * 40],\n",
    "        [\"Total Votes: \" + str(num_rows)],\n",
    "        [\"-\" * 40]\n",
    "    ])\n",
    "    writer.writerows(summaries)\n",
    "    writer.writerows([\n",
    "        [\"-\" * 40],\n",
    "        [\"Winner: \" + str(candidate_winner)],\n",
    "        [\"-\" * 40]\n",
    "    ])\n"
   ]
  },
  {
   "cell_type": "code",
   "execution_count": null,
   "metadata": {},
   "outputs": [],
   "source": []
  }
 ],
 "metadata": {
  "kernelspec": {
   "display_name": "Python 3",
   "language": "python",
   "name": "python3"
  },
  "language_info": {
   "codemirror_mode": {
    "name": "ipython",
    "version": 3
   },
   "file_extension": ".py",
   "mimetype": "text/x-python",
   "name": "python",
   "nbconvert_exporter": "python",
   "pygments_lexer": "ipython3",
   "version": "3.7.3"
  }
 },
 "nbformat": 4,
 "nbformat_minor": 2
}
